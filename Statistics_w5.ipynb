{
  "nbformat": 4,
  "nbformat_minor": 0,
  "metadata": {
    "colab": {
      "provenance": [],
      "authorship_tag": "ABX9TyNOh7J0N63T0BRrC8MQINHe",
      "include_colab_link": true
    },
    "kernelspec": {
      "name": "python3",
      "display_name": "Python 3"
    },
    "language_info": {
      "name": "python"
    }
  },
  "cells": [
    {
      "cell_type": "markdown",
      "metadata": {
        "id": "view-in-github",
        "colab_type": "text"
      },
      "source": [
        "<a href=\"https://colab.research.google.com/github/Valiev-Koyiljon/Statistics/blob/main/Statistics_w5.ipynb\" target=\"_parent\"><img src=\"https://colab.research.google.com/assets/colab-badge.svg\" alt=\"Open In Colab\"/></a>"
      ]
    },
    {
      "cell_type": "markdown",
      "source": [
        "# 34 exercise"
      ],
      "metadata": {
        "id": "36-Xjp7SRNdP"
      }
    },
    {
      "cell_type": "markdown",
      "source": [
        "## 1-Question"
      ],
      "metadata": {
        "id": "yX8MK0uzRR3E"
      }
    },
    {
      "cell_type": "code",
      "source": [
        "# importing necessary libraries\n",
        "import pandas as pd\n",
        "import seaborn as sns\n",
        "import matplotlib.pyplot as plt\n"
      ],
      "metadata": {
        "id": "1sCnMQmtSYWE"
      },
      "execution_count": null,
      "outputs": []
    },
    {
      "cell_type": "code",
      "source": [
        "from google.colab import files\n",
        "upload = files.upload()"
      ],
      "metadata": {
        "colab": {
          "base_uri": "https://localhost:8080/",
          "height": 73
        },
        "id": "VD4Q843OYeYr",
        "outputId": "0ffb167c-041c-4f6a-8f87-cc606d8bd988"
      },
      "execution_count": null,
      "outputs": [
        {
          "output_type": "display_data",
          "data": {
            "text/plain": [
              "<IPython.core.display.HTML object>"
            ],
            "text/html": [
              "\n",
              "     <input type=\"file\" id=\"files-31432103-a939-4c4e-9361-9408568658d0\" name=\"files[]\" multiple disabled\n",
              "        style=\"border:none\" />\n",
              "     <output id=\"result-31432103-a939-4c4e-9361-9408568658d0\">\n",
              "      Upload widget is only available when the cell has been executed in the\n",
              "      current browser session. Please rerun this cell to enable.\n",
              "      </output>\n",
              "      <script>// Copyright 2017 Google LLC\n",
              "//\n",
              "// Licensed under the Apache License, Version 2.0 (the \"License\");\n",
              "// you may not use this file except in compliance with the License.\n",
              "// You may obtain a copy of the License at\n",
              "//\n",
              "//      http://www.apache.org/licenses/LICENSE-2.0\n",
              "//\n",
              "// Unless required by applicable law or agreed to in writing, software\n",
              "// distributed under the License is distributed on an \"AS IS\" BASIS,\n",
              "// WITHOUT WARRANTIES OR CONDITIONS OF ANY KIND, either express or implied.\n",
              "// See the License for the specific language governing permissions and\n",
              "// limitations under the License.\n",
              "\n",
              "/**\n",
              " * @fileoverview Helpers for google.colab Python module.\n",
              " */\n",
              "(function(scope) {\n",
              "function span(text, styleAttributes = {}) {\n",
              "  const element = document.createElement('span');\n",
              "  element.textContent = text;\n",
              "  for (const key of Object.keys(styleAttributes)) {\n",
              "    element.style[key] = styleAttributes[key];\n",
              "  }\n",
              "  return element;\n",
              "}\n",
              "\n",
              "// Max number of bytes which will be uploaded at a time.\n",
              "const MAX_PAYLOAD_SIZE = 100 * 1024;\n",
              "\n",
              "function _uploadFiles(inputId, outputId) {\n",
              "  const steps = uploadFilesStep(inputId, outputId);\n",
              "  const outputElement = document.getElementById(outputId);\n",
              "  // Cache steps on the outputElement to make it available for the next call\n",
              "  // to uploadFilesContinue from Python.\n",
              "  outputElement.steps = steps;\n",
              "\n",
              "  return _uploadFilesContinue(outputId);\n",
              "}\n",
              "\n",
              "// This is roughly an async generator (not supported in the browser yet),\n",
              "// where there are multiple asynchronous steps and the Python side is going\n",
              "// to poll for completion of each step.\n",
              "// This uses a Promise to block the python side on completion of each step,\n",
              "// then passes the result of the previous step as the input to the next step.\n",
              "function _uploadFilesContinue(outputId) {\n",
              "  const outputElement = document.getElementById(outputId);\n",
              "  const steps = outputElement.steps;\n",
              "\n",
              "  const next = steps.next(outputElement.lastPromiseValue);\n",
              "  return Promise.resolve(next.value.promise).then((value) => {\n",
              "    // Cache the last promise value to make it available to the next\n",
              "    // step of the generator.\n",
              "    outputElement.lastPromiseValue = value;\n",
              "    return next.value.response;\n",
              "  });\n",
              "}\n",
              "\n",
              "/**\n",
              " * Generator function which is called between each async step of the upload\n",
              " * process.\n",
              " * @param {string} inputId Element ID of the input file picker element.\n",
              " * @param {string} outputId Element ID of the output display.\n",
              " * @return {!Iterable<!Object>} Iterable of next steps.\n",
              " */\n",
              "function* uploadFilesStep(inputId, outputId) {\n",
              "  const inputElement = document.getElementById(inputId);\n",
              "  inputElement.disabled = false;\n",
              "\n",
              "  const outputElement = document.getElementById(outputId);\n",
              "  outputElement.innerHTML = '';\n",
              "\n",
              "  const pickedPromise = new Promise((resolve) => {\n",
              "    inputElement.addEventListener('change', (e) => {\n",
              "      resolve(e.target.files);\n",
              "    });\n",
              "  });\n",
              "\n",
              "  const cancel = document.createElement('button');\n",
              "  inputElement.parentElement.appendChild(cancel);\n",
              "  cancel.textContent = 'Cancel upload';\n",
              "  const cancelPromise = new Promise((resolve) => {\n",
              "    cancel.onclick = () => {\n",
              "      resolve(null);\n",
              "    };\n",
              "  });\n",
              "\n",
              "  // Wait for the user to pick the files.\n",
              "  const files = yield {\n",
              "    promise: Promise.race([pickedPromise, cancelPromise]),\n",
              "    response: {\n",
              "      action: 'starting',\n",
              "    }\n",
              "  };\n",
              "\n",
              "  cancel.remove();\n",
              "\n",
              "  // Disable the input element since further picks are not allowed.\n",
              "  inputElement.disabled = true;\n",
              "\n",
              "  if (!files) {\n",
              "    return {\n",
              "      response: {\n",
              "        action: 'complete',\n",
              "      }\n",
              "    };\n",
              "  }\n",
              "\n",
              "  for (const file of files) {\n",
              "    const li = document.createElement('li');\n",
              "    li.append(span(file.name, {fontWeight: 'bold'}));\n",
              "    li.append(span(\n",
              "        `(${file.type || 'n/a'}) - ${file.size} bytes, ` +\n",
              "        `last modified: ${\n",
              "            file.lastModifiedDate ? file.lastModifiedDate.toLocaleDateString() :\n",
              "                                    'n/a'} - `));\n",
              "    const percent = span('0% done');\n",
              "    li.appendChild(percent);\n",
              "\n",
              "    outputElement.appendChild(li);\n",
              "\n",
              "    const fileDataPromise = new Promise((resolve) => {\n",
              "      const reader = new FileReader();\n",
              "      reader.onload = (e) => {\n",
              "        resolve(e.target.result);\n",
              "      };\n",
              "      reader.readAsArrayBuffer(file);\n",
              "    });\n",
              "    // Wait for the data to be ready.\n",
              "    let fileData = yield {\n",
              "      promise: fileDataPromise,\n",
              "      response: {\n",
              "        action: 'continue',\n",
              "      }\n",
              "    };\n",
              "\n",
              "    // Use a chunked sending to avoid message size limits. See b/62115660.\n",
              "    let position = 0;\n",
              "    do {\n",
              "      const length = Math.min(fileData.byteLength - position, MAX_PAYLOAD_SIZE);\n",
              "      const chunk = new Uint8Array(fileData, position, length);\n",
              "      position += length;\n",
              "\n",
              "      const base64 = btoa(String.fromCharCode.apply(null, chunk));\n",
              "      yield {\n",
              "        response: {\n",
              "          action: 'append',\n",
              "          file: file.name,\n",
              "          data: base64,\n",
              "        },\n",
              "      };\n",
              "\n",
              "      let percentDone = fileData.byteLength === 0 ?\n",
              "          100 :\n",
              "          Math.round((position / fileData.byteLength) * 100);\n",
              "      percent.textContent = `${percentDone}% done`;\n",
              "\n",
              "    } while (position < fileData.byteLength);\n",
              "  }\n",
              "\n",
              "  // All done.\n",
              "  yield {\n",
              "    response: {\n",
              "      action: 'complete',\n",
              "    }\n",
              "  };\n",
              "}\n",
              "\n",
              "scope.google = scope.google || {};\n",
              "scope.google.colab = scope.google.colab || {};\n",
              "scope.google.colab._files = {\n",
              "  _uploadFiles,\n",
              "  _uploadFilesContinue,\n",
              "};\n",
              "})(self);\n",
              "</script> "
            ]
          },
          "metadata": {}
        },
        {
          "output_type": "stream",
          "name": "stdout",
          "text": [
            "Saving Spotify_Youtube.csv to Spotify_Youtube.csv\n"
          ]
        }
      ]
    },
    {
      "cell_type": "code",
      "source": [
        "df = pd.read_csv(\"Spotify_Youtube.csv\")"
      ],
      "metadata": {
        "id": "eXhhdnZKYi-C"
      },
      "execution_count": null,
      "outputs": []
    },
    {
      "cell_type": "code",
      "source": [
        "df.head()\n",
        "# data = "
      ],
      "metadata": {
        "colab": {
          "base_uri": "https://localhost:8080/",
          "height": 716
        },
        "id": "zXnN3T6YZMon",
        "outputId": "964c3984-ae38-45f8-b91e-6b85b314ffd1"
      },
      "execution_count": null,
      "outputs": [
        {
          "output_type": "execute_result",
          "data": {
            "text/plain": [
              "   Unnamed: 0    Artist                                        Url_spotify  \\\n",
              "0           0  Gorillaz  https://open.spotify.com/artist/3AA28KZvwAUcZu...   \n",
              "1           1  Gorillaz  https://open.spotify.com/artist/3AA28KZvwAUcZu...   \n",
              "2           2  Gorillaz  https://open.spotify.com/artist/3AA28KZvwAUcZu...   \n",
              "3           3  Gorillaz  https://open.spotify.com/artist/3AA28KZvwAUcZu...   \n",
              "4           4  Gorillaz  https://open.spotify.com/artist/3AA28KZvwAUcZu...   \n",
              "\n",
              "                                           Track  \\\n",
              "0                                 Feel Good Inc.   \n",
              "1                                Rhinestone Eyes   \n",
              "2  New Gold (feat. Tame Impala and Bootie Brown)   \n",
              "3                             On Melancholy Hill   \n",
              "4                                 Clint Eastwood   \n",
              "\n",
              "                                           Album Album_type  \\\n",
              "0                                     Demon Days      album   \n",
              "1                                  Plastic Beach      album   \n",
              "2  New Gold (feat. Tame Impala and Bootie Brown)     single   \n",
              "3                                  Plastic Beach      album   \n",
              "4                                       Gorillaz      album   \n",
              "\n",
              "                                    Uri  Danceability  Energy   Key  ...  \\\n",
              "0  spotify:track:0d28khcov6AiegSCpG5TuT         0.818   0.705   6.0  ...   \n",
              "1  spotify:track:1foMv2HQwfQ2vntFf9HFeG         0.676   0.703   8.0  ...   \n",
              "2  spotify:track:64dLd6rVqDLtkXFYrEUHIU         0.695   0.923   1.0  ...   \n",
              "3  spotify:track:0q6LuUqGLUiCPP1cbdwFs3         0.689   0.739   2.0  ...   \n",
              "4  spotify:track:7yMiX7n9SBvadzox8T5jzT         0.663   0.694  10.0  ...   \n",
              "\n",
              "                                   Url_youtube  \\\n",
              "0  https://www.youtube.com/watch?v=HyHNuVaZJ-k   \n",
              "1  https://www.youtube.com/watch?v=yYDmaexVHic   \n",
              "2  https://www.youtube.com/watch?v=qJa-VFwPpYA   \n",
              "3  https://www.youtube.com/watch?v=04mfKJWDSzI   \n",
              "4  https://www.youtube.com/watch?v=1V_xRb0x9aw   \n",
              "\n",
              "                                               Title   Channel        Views  \\\n",
              "0         Gorillaz - Feel Good Inc. (Official Video)  Gorillaz  693555221.0   \n",
              "1  Gorillaz - Rhinestone Eyes [Storyboard Film] (...  Gorillaz   72011645.0   \n",
              "2  Gorillaz - New Gold ft. Tame Impala & Bootie B...  Gorillaz    8435055.0   \n",
              "3     Gorillaz - On Melancholy Hill (Official Video)  Gorillaz  211754952.0   \n",
              "4         Gorillaz - Clint Eastwood (Official Video)  Gorillaz  618480958.0   \n",
              "\n",
              "       Likes  Comments                                        Description  \\\n",
              "0  6220896.0  169907.0  Official HD Video for Gorillaz' fantastic trac...   \n",
              "1  1079128.0   31003.0  The official video for Gorillaz - Rhinestone E...   \n",
              "2   282142.0    7399.0  Gorillaz - New Gold ft. Tame Impala & Bootie B...   \n",
              "3  1788577.0   55229.0  Follow Gorillaz online:\\nhttp://gorillaz.com \\...   \n",
              "4  6197318.0  155930.0  The official music video for Gorillaz - Clint ...   \n",
              "\n",
              "   Licensed official_video        Stream  \n",
              "0      True           True  1.040235e+09  \n",
              "1      True           True  3.100837e+08  \n",
              "2      True           True  6.306347e+07  \n",
              "3      True           True  4.346636e+08  \n",
              "4      True           True  6.172597e+08  \n",
              "\n",
              "[5 rows x 28 columns]"
            ],
            "text/html": [
              "\n",
              "  <div id=\"df-ac0e6fe9-b652-46db-8f2a-ad23074f21d2\">\n",
              "    <div class=\"colab-df-container\">\n",
              "      <div>\n",
              "<style scoped>\n",
              "    .dataframe tbody tr th:only-of-type {\n",
              "        vertical-align: middle;\n",
              "    }\n",
              "\n",
              "    .dataframe tbody tr th {\n",
              "        vertical-align: top;\n",
              "    }\n",
              "\n",
              "    .dataframe thead th {\n",
              "        text-align: right;\n",
              "    }\n",
              "</style>\n",
              "<table border=\"1\" class=\"dataframe\">\n",
              "  <thead>\n",
              "    <tr style=\"text-align: right;\">\n",
              "      <th></th>\n",
              "      <th>Unnamed: 0</th>\n",
              "      <th>Artist</th>\n",
              "      <th>Url_spotify</th>\n",
              "      <th>Track</th>\n",
              "      <th>Album</th>\n",
              "      <th>Album_type</th>\n",
              "      <th>Uri</th>\n",
              "      <th>Danceability</th>\n",
              "      <th>Energy</th>\n",
              "      <th>Key</th>\n",
              "      <th>...</th>\n",
              "      <th>Url_youtube</th>\n",
              "      <th>Title</th>\n",
              "      <th>Channel</th>\n",
              "      <th>Views</th>\n",
              "      <th>Likes</th>\n",
              "      <th>Comments</th>\n",
              "      <th>Description</th>\n",
              "      <th>Licensed</th>\n",
              "      <th>official_video</th>\n",
              "      <th>Stream</th>\n",
              "    </tr>\n",
              "  </thead>\n",
              "  <tbody>\n",
              "    <tr>\n",
              "      <th>0</th>\n",
              "      <td>0</td>\n",
              "      <td>Gorillaz</td>\n",
              "      <td>https://open.spotify.com/artist/3AA28KZvwAUcZu...</td>\n",
              "      <td>Feel Good Inc.</td>\n",
              "      <td>Demon Days</td>\n",
              "      <td>album</td>\n",
              "      <td>spotify:track:0d28khcov6AiegSCpG5TuT</td>\n",
              "      <td>0.818</td>\n",
              "      <td>0.705</td>\n",
              "      <td>6.0</td>\n",
              "      <td>...</td>\n",
              "      <td>https://www.youtube.com/watch?v=HyHNuVaZJ-k</td>\n",
              "      <td>Gorillaz - Feel Good Inc. (Official Video)</td>\n",
              "      <td>Gorillaz</td>\n",
              "      <td>693555221.0</td>\n",
              "      <td>6220896.0</td>\n",
              "      <td>169907.0</td>\n",
              "      <td>Official HD Video for Gorillaz' fantastic trac...</td>\n",
              "      <td>True</td>\n",
              "      <td>True</td>\n",
              "      <td>1.040235e+09</td>\n",
              "    </tr>\n",
              "    <tr>\n",
              "      <th>1</th>\n",
              "      <td>1</td>\n",
              "      <td>Gorillaz</td>\n",
              "      <td>https://open.spotify.com/artist/3AA28KZvwAUcZu...</td>\n",
              "      <td>Rhinestone Eyes</td>\n",
              "      <td>Plastic Beach</td>\n",
              "      <td>album</td>\n",
              "      <td>spotify:track:1foMv2HQwfQ2vntFf9HFeG</td>\n",
              "      <td>0.676</td>\n",
              "      <td>0.703</td>\n",
              "      <td>8.0</td>\n",
              "      <td>...</td>\n",
              "      <td>https://www.youtube.com/watch?v=yYDmaexVHic</td>\n",
              "      <td>Gorillaz - Rhinestone Eyes [Storyboard Film] (...</td>\n",
              "      <td>Gorillaz</td>\n",
              "      <td>72011645.0</td>\n",
              "      <td>1079128.0</td>\n",
              "      <td>31003.0</td>\n",
              "      <td>The official video for Gorillaz - Rhinestone E...</td>\n",
              "      <td>True</td>\n",
              "      <td>True</td>\n",
              "      <td>3.100837e+08</td>\n",
              "    </tr>\n",
              "    <tr>\n",
              "      <th>2</th>\n",
              "      <td>2</td>\n",
              "      <td>Gorillaz</td>\n",
              "      <td>https://open.spotify.com/artist/3AA28KZvwAUcZu...</td>\n",
              "      <td>New Gold (feat. Tame Impala and Bootie Brown)</td>\n",
              "      <td>New Gold (feat. Tame Impala and Bootie Brown)</td>\n",
              "      <td>single</td>\n",
              "      <td>spotify:track:64dLd6rVqDLtkXFYrEUHIU</td>\n",
              "      <td>0.695</td>\n",
              "      <td>0.923</td>\n",
              "      <td>1.0</td>\n",
              "      <td>...</td>\n",
              "      <td>https://www.youtube.com/watch?v=qJa-VFwPpYA</td>\n",
              "      <td>Gorillaz - New Gold ft. Tame Impala &amp; Bootie B...</td>\n",
              "      <td>Gorillaz</td>\n",
              "      <td>8435055.0</td>\n",
              "      <td>282142.0</td>\n",
              "      <td>7399.0</td>\n",
              "      <td>Gorillaz - New Gold ft. Tame Impala &amp; Bootie B...</td>\n",
              "      <td>True</td>\n",
              "      <td>True</td>\n",
              "      <td>6.306347e+07</td>\n",
              "    </tr>\n",
              "    <tr>\n",
              "      <th>3</th>\n",
              "      <td>3</td>\n",
              "      <td>Gorillaz</td>\n",
              "      <td>https://open.spotify.com/artist/3AA28KZvwAUcZu...</td>\n",
              "      <td>On Melancholy Hill</td>\n",
              "      <td>Plastic Beach</td>\n",
              "      <td>album</td>\n",
              "      <td>spotify:track:0q6LuUqGLUiCPP1cbdwFs3</td>\n",
              "      <td>0.689</td>\n",
              "      <td>0.739</td>\n",
              "      <td>2.0</td>\n",
              "      <td>...</td>\n",
              "      <td>https://www.youtube.com/watch?v=04mfKJWDSzI</td>\n",
              "      <td>Gorillaz - On Melancholy Hill (Official Video)</td>\n",
              "      <td>Gorillaz</td>\n",
              "      <td>211754952.0</td>\n",
              "      <td>1788577.0</td>\n",
              "      <td>55229.0</td>\n",
              "      <td>Follow Gorillaz online:\\nhttp://gorillaz.com \\...</td>\n",
              "      <td>True</td>\n",
              "      <td>True</td>\n",
              "      <td>4.346636e+08</td>\n",
              "    </tr>\n",
              "    <tr>\n",
              "      <th>4</th>\n",
              "      <td>4</td>\n",
              "      <td>Gorillaz</td>\n",
              "      <td>https://open.spotify.com/artist/3AA28KZvwAUcZu...</td>\n",
              "      <td>Clint Eastwood</td>\n",
              "      <td>Gorillaz</td>\n",
              "      <td>album</td>\n",
              "      <td>spotify:track:7yMiX7n9SBvadzox8T5jzT</td>\n",
              "      <td>0.663</td>\n",
              "      <td>0.694</td>\n",
              "      <td>10.0</td>\n",
              "      <td>...</td>\n",
              "      <td>https://www.youtube.com/watch?v=1V_xRb0x9aw</td>\n",
              "      <td>Gorillaz - Clint Eastwood (Official Video)</td>\n",
              "      <td>Gorillaz</td>\n",
              "      <td>618480958.0</td>\n",
              "      <td>6197318.0</td>\n",
              "      <td>155930.0</td>\n",
              "      <td>The official music video for Gorillaz - Clint ...</td>\n",
              "      <td>True</td>\n",
              "      <td>True</td>\n",
              "      <td>6.172597e+08</td>\n",
              "    </tr>\n",
              "  </tbody>\n",
              "</table>\n",
              "<p>5 rows × 28 columns</p>\n",
              "</div>\n",
              "      <button class=\"colab-df-convert\" onclick=\"convertToInteractive('df-ac0e6fe9-b652-46db-8f2a-ad23074f21d2')\"\n",
              "              title=\"Convert this dataframe to an interactive table.\"\n",
              "              style=\"display:none;\">\n",
              "        \n",
              "  <svg xmlns=\"http://www.w3.org/2000/svg\" height=\"24px\"viewBox=\"0 0 24 24\"\n",
              "       width=\"24px\">\n",
              "    <path d=\"M0 0h24v24H0V0z\" fill=\"none\"/>\n",
              "    <path d=\"M18.56 5.44l.94 2.06.94-2.06 2.06-.94-2.06-.94-.94-2.06-.94 2.06-2.06.94zm-11 1L8.5 8.5l.94-2.06 2.06-.94-2.06-.94L8.5 2.5l-.94 2.06-2.06.94zm10 10l.94 2.06.94-2.06 2.06-.94-2.06-.94-.94-2.06-.94 2.06-2.06.94z\"/><path d=\"M17.41 7.96l-1.37-1.37c-.4-.4-.92-.59-1.43-.59-.52 0-1.04.2-1.43.59L10.3 9.45l-7.72 7.72c-.78.78-.78 2.05 0 2.83L4 21.41c.39.39.9.59 1.41.59.51 0 1.02-.2 1.41-.59l7.78-7.78 2.81-2.81c.8-.78.8-2.07 0-2.86zM5.41 20L4 18.59l7.72-7.72 1.47 1.35L5.41 20z\"/>\n",
              "  </svg>\n",
              "      </button>\n",
              "      \n",
              "  <style>\n",
              "    .colab-df-container {\n",
              "      display:flex;\n",
              "      flex-wrap:wrap;\n",
              "      gap: 12px;\n",
              "    }\n",
              "\n",
              "    .colab-df-convert {\n",
              "      background-color: #E8F0FE;\n",
              "      border: none;\n",
              "      border-radius: 50%;\n",
              "      cursor: pointer;\n",
              "      display: none;\n",
              "      fill: #1967D2;\n",
              "      height: 32px;\n",
              "      padding: 0 0 0 0;\n",
              "      width: 32px;\n",
              "    }\n",
              "\n",
              "    .colab-df-convert:hover {\n",
              "      background-color: #E2EBFA;\n",
              "      box-shadow: 0px 1px 2px rgba(60, 64, 67, 0.3), 0px 1px 3px 1px rgba(60, 64, 67, 0.15);\n",
              "      fill: #174EA6;\n",
              "    }\n",
              "\n",
              "    [theme=dark] .colab-df-convert {\n",
              "      background-color: #3B4455;\n",
              "      fill: #D2E3FC;\n",
              "    }\n",
              "\n",
              "    [theme=dark] .colab-df-convert:hover {\n",
              "      background-color: #434B5C;\n",
              "      box-shadow: 0px 1px 3px 1px rgba(0, 0, 0, 0.15);\n",
              "      filter: drop-shadow(0px 1px 2px rgba(0, 0, 0, 0.3));\n",
              "      fill: #FFFFFF;\n",
              "    }\n",
              "  </style>\n",
              "\n",
              "      <script>\n",
              "        const buttonEl =\n",
              "          document.querySelector('#df-ac0e6fe9-b652-46db-8f2a-ad23074f21d2 button.colab-df-convert');\n",
              "        buttonEl.style.display =\n",
              "          google.colab.kernel.accessAllowed ? 'block' : 'none';\n",
              "\n",
              "        async function convertToInteractive(key) {\n",
              "          const element = document.querySelector('#df-ac0e6fe9-b652-46db-8f2a-ad23074f21d2');\n",
              "          const dataTable =\n",
              "            await google.colab.kernel.invokeFunction('convertToInteractive',\n",
              "                                                     [key], {});\n",
              "          if (!dataTable) return;\n",
              "\n",
              "          const docLinkHtml = 'Like what you see? Visit the ' +\n",
              "            '<a target=\"_blank\" href=https://colab.research.google.com/notebooks/data_table.ipynb>data table notebook</a>'\n",
              "            + ' to learn more about interactive tables.';\n",
              "          element.innerHTML = '';\n",
              "          dataTable['output_type'] = 'display_data';\n",
              "          await google.colab.output.renderOutput(dataTable, element);\n",
              "          const docLink = document.createElement('div');\n",
              "          docLink.innerHTML = docLinkHtml;\n",
              "          element.appendChild(docLink);\n",
              "        }\n",
              "      </script>\n",
              "    </div>\n",
              "  </div>\n",
              "  "
            ]
          },
          "metadata": {},
          "execution_count": 13
        }
      ]
    },
    {
      "cell_type": "code",
      "source": [
        "energy = df[\"Energy\"]\n",
        "data = energy.values\n",
        "data"
      ],
      "metadata": {
        "colab": {
          "base_uri": "https://localhost:8080/"
        },
        "id": "NVZAtvZDaII1",
        "outputId": "08407d7d-6a8d-4f09-e748-6c558d6d9f2c"
      },
      "execution_count": null,
      "outputs": [
        {
          "output_type": "execute_result",
          "data": {
            "text/plain": [
              "array([0.705, 0.703, 0.923, ..., 0.83 , 0.767, 0.938])"
            ]
          },
          "metadata": {},
          "execution_count": 24
        }
      ]
    },
    {
      "cell_type": "code",
      "source": [
        "len(data)\n"
      ],
      "metadata": {
        "colab": {
          "base_uri": "https://localhost:8080/"
        },
        "id": "GVJBD6tQacf3",
        "outputId": "54f24e9f-66dc-4d02-b9f8-cb08b80d62ec"
      },
      "execution_count": null,
      "outputs": [
        {
          "output_type": "execute_result",
          "data": {
            "text/plain": [
              "20718"
            ]
          },
          "metadata": {},
          "execution_count": 25
        }
      ]
    },
    {
      "cell_type": "code",
      "source": [
        "# power of 2, number of bins: 15"
      ],
      "metadata": {
        "id": "pRBj1Fveb1iz"
      },
      "execution_count": null,
      "outputs": []
    },
    {
      "cell_type": "code",
      "execution_count": null,
      "metadata": {
        "colab": {
          "base_uri": "https://localhost:8080/"
        },
        "id": "NkLD_9q9QfTM",
        "outputId": "f8f8de0c-f15a-49ab-d597-1d7bee7d36bd"
      },
      "outputs": [
        {
          "output_type": "stream",
          "name": "stdout",
          "text": [
            "(-0.00198, 0.0667]     347\n",
            "(0.0667, 0.133]        278\n",
            "(0.133, 0.2]           310\n",
            "(0.2, 0.267]           405\n",
            "(0.267, 0.333]         694\n",
            "(0.333, 0.4]           885\n",
            "(0.4, 0.467]          1246\n",
            "(0.467, 0.533]        1741\n",
            "(0.533, 0.6]          2055\n",
            "(0.6, 0.667]          2411\n",
            "(0.667, 0.733]        2758\n",
            "(0.733, 0.8]          2489\n",
            "(0.8, 0.867]          2257\n",
            "(0.867, 0.933]        1897\n",
            "(0.933, 1.0]           943\n",
            "Name: Data, dtype: int64\n"
          ]
        }
      ],
      "source": [
        "\n",
        "# data = [9.3, 5.3, 6.3, 8.8, 6.5, 0.6, 5.2, 6.6, 9.3, 4.3,\n",
        "#         6.3, 2.1, 2.7, 0.4, 3.7, 3.3, 1.1, 2.7, 6.7, 6.5,\n",
        "#         4.3, 9.7, 7.7, 5.2, 1.7, 8.5, 4.2, 5.5, 5.1, 5.6,\n",
        "#         5.4, 4.8, 2.1, 10.1, 1.3, 5.6, 2.4, 2.4, 4.7, 1.7,\n",
        "#         2.0, 6.7, 1.1, 6.7, 2.2, 2.6, 9.8, 6.4, 4.9, 5.2,\n",
        "#         4.5, 9.3, 7.9, 4.6, 4.3, 4.5, 9.2, 8.5, 6.0, 8.1]\n",
        "\n",
        "# Create a Pandas DataFrame with the data\n",
        "df = pd.DataFrame({'Data': data})\n",
        "\n",
        "# Define the number of classes dependant according to the power of data, which should be greater  \n",
        "num_classes = 15\n",
        "\n",
        "# Defining the class interval by dividing the range of the data by the number of classes\n",
        "class_interval = (max(data) - min(data)) / num_classes\n",
        "\n",
        "# Creating a frequency distribution by counting the number of values in each class\n",
        "freq_dist = pd.cut(df['Data'], bins=num_classes, include_lowest=True).value_counts(sort=False)\n",
        "\n",
        "# Printing the frequency distribution\n",
        "print(freq_dist)\n"
      ]
    },
    {
      "cell_type": "markdown",
      "source": [
        "##2-question"
      ],
      "metadata": {
        "id": "bHpO73yYRXWA"
      }
    },
    {
      "cell_type": "code",
      "source": [
        "# in matplotlib\n",
        "\n",
        "# Create a histogram using the data and number of classes defined previously\n",
        "plt.hist(data, bins=num_classes, edgecolor='black')\n",
        "\n",
        "# Add labels and title to the plot\n",
        "plt.xlabel('Usage of energy')\n",
        "plt.ylabel('Frequency')\n",
        "plt.title('Distribution of energy usage in Youtube and Spotify dataset')\n",
        "\n",
        "# Show the plot\n",
        "plt.show()\n",
        "plt.savefig(\"histogram_matplotlib.jpg\")\n",
        "\n"
      ],
      "metadata": {
        "colab": {
          "base_uri": "https://localhost:8080/",
          "height": 489
        },
        "id": "yI6NrX6mQnUz",
        "outputId": "45fae6e2-e4e3-46bb-ddb8-a2494c25c878"
      },
      "execution_count": null,
      "outputs": [
        {
          "output_type": "display_data",
          "data": {
            "text/plain": [
              "<Figure size 640x480 with 1 Axes>"
            ],
            "image/png": "[encoded data removed]"
          },
          "metadata": {}
        },
        {
          "output_type": "display_data",
          "data": {
            "text/plain": [
              "<Figure size 640x480 with 0 Axes>"
            ]
          },
          "metadata": {}
        }
      ]
    },
    {
      "cell_type": "code",
      "source": [
        "# in seaborn\n",
        "\n",
        "\n",
        "# Create a histogram\n",
        "sns.histplot(data, bins=6, kde=False, color='skyblue')\n",
        "\n",
        "# Add labels and title\n",
        "plt.xlabel('Personal Computer Usage Hours per Week')\n",
        "plt.ylabel('Frequency')\n",
        "plt.title('Histogram of Personal Computer Usage Hours')\n",
        "\n",
        "# Show the plot\n",
        "plt.show()\n",
        "\n",
        "plt.savefig(\"histogram_seaborn.jpg\")\n"
      ],
      "metadata": {
        "colab": {
          "base_uri": "https://localhost:8080/",
          "height": 489
        },
        "id": "04WpACDzR_vK",
        "outputId": "5ecfe8b9-942f-41a4-b483-81e6f417b883"
      },
      "execution_count": null,
      "outputs": [
        {
          "output_type": "display_data",
          "data": {
            "text/plain": [
              "<Figure size 640x480 with 1 Axes>"
            ],
            "image/png": "[encoded data removed]"
          },
          "metadata": {}
        },
        {
          "output_type": "display_data",
          "data": {
            "text/plain": [
              "<Figure size 640x480 with 0 Axes>"
            ]
          },
          "metadata": {}
        }
      ]
    },
    {
      "cell_type": "code",
      "source": [],
      "metadata": {
        "id": "xefl5mlUShKL"
      },
      "execution_count": null,
      "outputs": []
    }
  ]
}
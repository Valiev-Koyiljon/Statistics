{
  "nbformat": 4,
  "nbformat_minor": 0,
  "metadata": {
    "colab": {
      "provenance": [],
      "authorship_tag": "ABX9TyN1KjTLmpdF3jBS/GaSvuaq",
      "include_colab_link": true
    },
    "kernelspec": {
      "name": "python3",
      "display_name": "Python 3"
    },
    "language_info": {
      "name": "python"
    }
  },
  "cells": [
    {
      "cell_type": "markdown",
      "metadata": {
        "id": "view-in-github",
        "colab_type": "text"
      },
      "source": [
        "<a href=\"https://colab.research.google.com/github/Valiev-Koyiljon/Statistics/blob/main/Statistical_measures_in_numpy%2C_pandas%2C_scipy.ipynb\" target=\"_parent\"><img src=\"https://colab.research.google.com/assets/colab-badge.svg\" alt=\"Open In Colab\"/></a>"
      ]
    },
    {
      "cell_type": "markdown",
      "source": [
        "Statistical measures with Python Libraries"
      ],
      "metadata": {
        "id": "9LNmQ4ptj59U"
      }
    },
    {
      "cell_type": "markdown",
      "source": [
        "Here are some of the most commonly used statistical formulas in NumPy, Pandas, and other libraries:\n",
        "\n",
        "**NumPy**:\n",
        "- **Descriptive statistics**:\n",
        "- Mean: np.mean(data)\n",
        "- Median: np.median(data)\n",
        "- Mode: stats.mode(data)\n",
        "- Variance: np.var(data)\n",
        "- Standard deviation: np.std(data)\n",
        "- Minimum value: np.min(data)\n",
        "- Maximum value: np.max(data)\n",
        "- Range: np.max(data) - np.min(data)\n",
        "- **Correlation:**\n",
        "- Pearson correlation coefficient: np.corrcoef(x, y)\n",
        "- Probability distributions:\n",
        "- Normal distribution: np.random.normal(loc, scale, size)\n",
        "- Binomial distribution: np.random.binomial(n, p, size)\n",
        "- Poisson distribution: np.random.poisson(lam, size)\n",
        "- Uniform distribution: np.random.uniform(low, high, size)\n",
        "- **Skewness with numpy:**\n",
        "- numpy.skew(data) - Computes the skewness of a data set.\n",
        "- **Kurtosis with numpy:**\n",
        "- numpy.kurtosis(data) - Computes the kurtosis of a data set.\n",
        "- **Standard error of the mean with numpy:**\n",
        "- numpy.std(data, ddof=1) / numpy.sqrt(len(data)) - Computes the standard error of the mean of a data set.\n",
        " \n",
        "- **Pandas:**\n",
        "- **Descriptive statistics:**\n",
        "- Mean: df.mean()\n",
        "- Median: df.median()\n",
        "- Mode: df.mode()\n",
        "- Variance: df.var()\n",
        "- Standard deviation: df.std()\n",
        "- Minimum value: df.min()\n",
        "- Maximum value: df.max()\n",
        "- Range: df.max() - df.min()\n",
        "- **Correlation:**\n",
        "- Pearson correlation coefficient: df.corr()\n",
        "- **Probability distributions:**\n",
        "- Normal distribution: pd.DataFrame(np.random.normal(loc, scale, size))\n",
        "- Binomial distribution: pd.DataFrame(np.random.binomial(n, p, size))\n",
        "- Poisson distribution: pd.DataFrame(np.random.poisson(lam, size))\n",
        "- Uniform distribution: pd.DataFrame(np.random.uniform(low, high, size))\n",
        "\n",
        "- **Skewness with pandas**:\n",
        "- df.skew() - Computes the skewness of a data set.\n",
        "- **Kurtosis with pandas:**\n",
        "- df.kurtosis() - Computes the kurtosis of a data set.\n",
        "- **Standard error of the mean with pandas:**\n",
        "- df.sem(ddof=1) - Computes the standard error of the mean of a data set.\n",
        "- Note that the ddof parameter is used to specify the degrees of freedom for the calculation of the standard deviation. In general, if you are working with a sample (as opposed to a population), you should use ddof=1 to correct for bias in the estimation of the population standard deviation.\n",
        "\n",
        "\n",
        "- **SciPy:**\n",
        "- **Hypothesis testing:**\n",
        "- One-sample t-test: scipy.stats.ttest_1samp(data, popmean)\n",
        "- Two-sample t-test for independent samples: scipy.stats.ttest_ind(data1, data2)\n",
        "- Two-sample t-test for dependent samples: scipy.stats.ttest_rel(data1, data2)\n",
        "- **Probability distributions:**\n",
        "- Normal distribution: scipy.stats.norm.pdf(x, loc, scale)\n",
        "- Binomial distribution: scipy.stats.binom.pmf(k, n, p)\n",
        "- Poisson distribution: scipy.stats.poisson.pmf(k, mu)\n",
        "- Uniform distribution: scipy.stats.uniform.pdf(x, loc, scale)\n",
        "- **Other statistical measures:**\n",
        "- Skewness: scipy.stats.skew(data)\n",
        "- Kurtosis: scipy.stats.kurtosis(data)\n",
        "- Standard error of the mean: scipy.stats.sem(data)\n",
        "- I hope you find these formulas helpful!"
      ],
      "metadata": {
        "id": "xXnFNMj-g2iE"
      }
    },
    {
      "cell_type": "code",
      "source": [],
      "metadata": {
        "id": "0RrgKRB-heP9"
      },
      "execution_count": null,
      "outputs": []
    }
  ]
}